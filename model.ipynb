{
 "cells": [
  {
   "cell_type": "code",
   "execution_count": 13,
   "id": "b4371226",
   "metadata": {},
   "outputs": [
    {
     "name": "stdout",
     "output_type": "stream",
     "text": [
      "Classification Report:\n",
      "               precision    recall  f1-score   support\n",
      "\n",
      "     Average       0.96      0.92      0.94       100\n",
      "        High       0.99      0.98      0.98        92\n",
      "         Low       0.92      0.98      0.95        84\n",
      "\n",
      "    accuracy                           0.96       276\n",
      "   macro avg       0.96      0.96      0.96       276\n",
      "weighted avg       0.96      0.96      0.96       276\n",
      "\n",
      "Confusion Matrix:\n",
      " [[92  1  7]\n",
      " [ 2 90  0]\n",
      " [ 2  0 82]]\n"
     ]
    }
   ],
   "source": [
    "import pandas as pd\n",
    "import numpy as np\n",
    "from sklearn.model_selection import train_test_split\n",
    "from sklearn.ensemble import RandomForestClassifier\n",
    "from sklearn.preprocessing import LabelEncoder, StandardScaler\n",
    "from sklearn.metrics import classification_report, confusion_matrix\n",
    "from imblearn.over_sampling import SMOTE\n",
    "import joblib\n",
    "\n",
    "# Load data\n",
    "df = pd.read_csv(\"garments_worker_productivity.csv\")\n",
    "\n",
    "# Drop rows with null values (optional: can also fillna)\n",
    "df.dropna(inplace=True)\n",
    "\n",
    "# Encode target: convert actual_productivity to labels\n",
    "def performance_label(x):\n",
    "    if x < 0.6:\n",
    "        return 'Low'\n",
    "    elif x < 0.85:\n",
    "        return 'Average'\n",
    "    else:\n",
    "        return 'High'\n",
    "\n",
    "df['performance'] = df['actual_productivity'].apply(performance_label)\n",
    "df.drop(['actual_productivity'], axis=1, inplace=True)\n",
    "\n",
    "# Drop 'date' (not needed) and one-hot encode categorical features\n",
    "df.drop(['date'], axis=1, errors='ignore', inplace=True)\n",
    "df = pd.get_dummies(df, columns=['quarter', 'department', 'day'], drop_first=True)\n",
    "\n",
    "# Separate features and labels\n",
    "X = df.drop('performance', axis=1)\n",
    "y = df['performance']\n",
    "\n",
    "# Encode labels\n",
    "le = LabelEncoder()\n",
    "y_encoded = le.fit_transform(y)\n",
    "\n",
    "# Balance classes using SMOTE\n",
    "smote = SMOTE(random_state=42)\n",
    "X_res, y_res = smote.fit_resample(X, y_encoded)\n",
    "\n",
    "# Scale features\n",
    "scaler = StandardScaler()\n",
    "X_scaled = scaler.fit_transform(X_res)\n",
    "\n",
    "# Train-test split\n",
    "X_train, X_test, y_train, y_test = train_test_split(X_scaled, y_res, test_size=0.2, random_state=42)\n",
    "\n",
    "# Train model\n",
    "model = RandomForestClassifier(n_estimators=100, random_state=42)\n",
    "model.fit(X_train, y_train)\n",
    "\n",
    "# Evaluate\n",
    "y_pred = model.predict(X_test)\n",
    "print(\"Classification Report:\\n\", classification_report(y_test, y_pred, target_names=le.classes_))\n",
    "print(\"Confusion Matrix:\\n\", confusion_matrix(y_test, y_pred))\n",
    "\n"
   ]
  },
  {
   "cell_type": "code",
   "execution_count": 15,
   "id": "183904ae",
   "metadata": {},
   "outputs": [],
   "source": [
    "import pickle\n",
    "\n",
    "# Save the trained model\n",
    "with open(\"rf_employee_model.pkl\", \"wb\") as f:\n",
    "    pickle.dump(model, f)\n",
    "\n",
    "# Save the label encoder\n",
    "with open(\"label_encoder.pkl\", \"wb\") as f:\n",
    "    pickle.dump(y_encoded , f)\n",
    "\n",
    "# Save the scaler\n",
    "with open(\"scaler.pkl\", \"wb\") as f:\n",
    "    pickle.dump(X_scaled, f)\n"
   ]
  },
  {
   "cell_type": "code",
   "execution_count": null,
   "id": "579f429e",
   "metadata": {},
   "outputs": [],
   "source": []
  }
 ],
 "metadata": {
  "kernelspec": {
   "display_name": "base",
   "language": "python",
   "name": "python3"
  },
  "language_info": {
   "codemirror_mode": {
    "name": "ipython",
    "version": 3
   },
   "file_extension": ".py",
   "mimetype": "text/x-python",
   "name": "python",
   "nbconvert_exporter": "python",
   "pygments_lexer": "ipython3",
   "version": "3.12.7"
  }
 },
 "nbformat": 4,
 "nbformat_minor": 5
}
